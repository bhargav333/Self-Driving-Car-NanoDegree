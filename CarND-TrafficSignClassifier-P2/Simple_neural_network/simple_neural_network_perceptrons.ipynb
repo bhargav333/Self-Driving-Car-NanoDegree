{
 "cells": [
  {
   "cell_type": "markdown",
   "metadata": {},
   "source": [
    "# Simple Neural Network"
   ]
  },
  {
   "cell_type": "markdown",
   "metadata": {},
   "source": [
    "## AND Perceptron Demonstration"
   ]
  },
  {
   "cell_type": "code",
   "execution_count": 33,
   "metadata": {
    "collapsed": true
   },
   "outputs": [],
   "source": [
    "#importing necessary libraries\n",
    "import numpy as np\n",
    "import pandas as pd"
   ]
  },
  {
   "cell_type": "markdown",
   "metadata": {},
   "source": [
    "### Assining Weights and Bias"
   ]
  },
  {
   "cell_type": "code",
   "execution_count": null,
   "metadata": {
    "collapsed": true
   },
   "outputs": [],
   "source": [
    "weight1 = -1\n",
    "weight2 = 1\n",
    "bias = 1"
   ]
  },
  {
   "cell_type": "markdown",
   "metadata": {},
   "source": [
    "###   Assining Inputs and Outputs\n",
    "    "
   ]
  },
  {
   "cell_type": "code",
   "execution_count": null,
   "metadata": {
    "collapsed": true
   },
   "outputs": [],
   "source": [
    "test_inputs =[(0,0),(0,1),(1,0),(1,1)]\n",
    "correct_outputs = [True, False, True, False]\n",
    "outputs=[]"
   ]
  },
  {
   "cell_type": "markdown",
   "metadata": {},
   "source": [
    "###  Generate and check output"
   ]
  },
  {
   "cell_type": "code",
   "execution_count": null,
   "metadata": {
    "collapsed": false
   },
   "outputs": [],
   "source": [
    "for test_input,correct_output in zip(test_inputs,correct_outputs):\n",
    "    linear_combination = weight1 * test_input[0] + weight2 * test_input[1] + bias\n",
    "    output = (linear_combination >=0)\n",
    "    is_correct_string = 'Yes' if output == correct_output else 'No'\n",
    "    outputs.append([test_input[0],test_input[1],linear_combination,output,is_correct_string])\n"
   ]
  },
  {
   "cell_type": "markdown",
   "metadata": {},
   "source": [
    "### Print output"
   ]
  },
  {
   "cell_type": "code",
   "execution_count": null,
   "metadata": {
    "collapsed": false
   },
   "outputs": [],
   "source": [
    "num_wrong = len([output[4] for output in outputs if output[4]=='No'])\n",
    "outputframe = pd.DataFrame(outputs,columns = ['Input1','Input2','linear','Activation Output','Is Correct'])\n",
    "if not num_wrong:\n",
    "    print('Nice!  You got it all correct.\\n')\n",
    "else:\n",
    "    print('You got {} wrong.  Keep trying!\\n'.format(num_wrong))\n",
    "    \n",
    "print(output_frame.to_string(index=False))\n"
   ]
  },
  {
   "cell_type": "markdown",
   "metadata": {},
   "source": [
    "## Using CLASS METHOD"
   ]
  },
  {
   "cell_type": "code",
   "execution_count": 34,
   "metadata": {
    "collapsed": true
   },
   "outputs": [],
   "source": [
    "class perceptron:\n",
    "\n",
    "\n",
    "    def __init__(self,name):\n",
    "        self.name = name\n",
    "        \n",
    "    def inputs(self,test_inputs,correct_outputs):\n",
    "        self.test_inputs = test_inputs\n",
    "        self.correct_outputs = correct_outputs\n",
    "        \n",
    "        \n",
    "        \n",
    "        \n",
    "    \n",
    "        \n",
    "        \n",
    "    def generate(self,weight1,weight2,bias):\n",
    "        \n",
    "        \n",
    "        \n",
    "        outputs =[]\n",
    "        \n",
    "        self.weight1 = weight1\n",
    "        self.weight2 =weight2\n",
    "        self.bias =bias\n",
    "        \n",
    "        \n",
    "        \n",
    "        \n",
    "        for test_input,correct_output in zip(self.test_inputs,self.correct_outputs):\n",
    "            \n",
    "            linear_combination = weight1 * test_input[0] + weight2 * test_input[1] + bias\n",
    "            output = (linear_combination >=0)\n",
    "            is_correct_string = 'Yes' if output == correct_output else 'No'\n",
    "            outputs.append([test_input[0],test_input[1],linear_combination,output,is_correct_string])\n",
    "        \n",
    "        num_wrong = len([output[4] for output in outputs if output[4]=='No'])\n",
    "        outputframe = pd.DataFrame(outputs,columns = ['Input1','Input2','linear','Activation Output','Is Correct'])\n",
    "        if not num_wrong:\n",
    "            print('Nice!  You got it all correct.\\n')\n",
    "        else:\n",
    "            print('You got {} wrong.  Keep trying!\\n'.format(num_wrong))\n",
    "    \n",
    "        print(outputframe.to_string(index=False))\n",
    "\n",
    "\n",
    "        \n",
    "        \n",
    "        \n",
    "    "
   ]
  },
  {
   "cell_type": "code",
   "execution_count": 40,
   "metadata": {
    "collapsed": false
   },
   "outputs": [],
   "source": [
    "and_per= perceptron('and_perceptron')"
   ]
  },
  {
   "cell_type": "code",
   "execution_count": 41,
   "metadata": {
    "collapsed": false
   },
   "outputs": [],
   "source": [
    "and_per.inputs(test_inputs=[(0,0),(0,1),(1,0),(1,1)],correct_outputs=[False, True, True, True])"
   ]
  },
  {
   "cell_type": "code",
   "execution_count": 44,
   "metadata": {
    "collapsed": false
   },
   "outputs": [
    {
     "name": "stdout",
     "output_type": "stream",
     "text": [
      "Nice!  You got it all correct.\n",
      "\n",
      "Input1  Input2  linear Activation Output Is Correct\n",
      "     0       0      -1             False        Yes\n",
      "     0       1       0              True        Yes\n",
      "     1       0       0              True        Yes\n",
      "     1       1       1              True        Yes\n"
     ]
    }
   ],
   "source": [
    "and_per.generate(weight1 = 1,weight2 =1,bias=-1)"
   ]
  },
  {
   "cell_type": "code",
   "execution_count": null,
   "metadata": {
    "collapsed": false
   },
   "outputs": [],
   "source": []
  },
  {
   "cell_type": "code",
   "execution_count": null,
   "metadata": {
    "collapsed": true
   },
   "outputs": [],
   "source": []
  }
 ],
 "metadata": {
  "kernelspec": {
   "display_name": "Python 3",
   "language": "python",
   "name": "python3"
  },
  "language_info": {
   "codemirror_mode": {
    "name": "ipython",
    "version": 3
   },
   "file_extension": ".py",
   "mimetype": "text/x-python",
   "name": "python",
   "nbconvert_exporter": "python",
   "pygments_lexer": "ipython3",
   "version": "3.6.0"
  }
 },
 "nbformat": 4,
 "nbformat_minor": 2
}
