{
 "cells": [
  {
   "cell_type": "code",
   "execution_count": 1,
   "metadata": {
    "collapsed": true
   },
   "outputs": [],
   "source": [
    "import numpy as np\n",
    "import pandas as pd"
   ]
  },
  {
   "cell_type": "code",
   "execution_count": null,
   "metadata": {
    "collapsed": false
   },
   "outputs": [],
   "source": [
    "def sigmoid(x):\n",
    "    return 1/(1+ np.exp(-x))\n",
    "\n",
    "x = np.array([0.5, 0.1, -0.2])\n",
    "target = 0.6\n",
    "learnrate = 0.5\n",
    "weights_input_hidden = np.array([[0.5, -0.6],\n",
    "                                 [0.1, -0.2],\n",
    "                                 [0.1, 0.7]])\n",
    "\n",
    "weights_hidden_output = np.array([0.1, -0.3])\n",
    "\n",
    "h_o_a = sigmoid(np.dot(x,weights_input_hidden))\n",
    "o_a=sigmoid(np.dot(h_o_a,weights_hidden_output))\n",
    "error = target - o_a\n",
    "error_rate_output = o_a * (1-o_a) *(target - o_a)\n",
    "error_rate_hidden = error_rate_output * h_o_a * (1-h_o_a) * weights_hidden_output\n",
    "weights_update_output = error_rate_output * learnrate * h_o_a\n",
    "weights_update_hidden = error_rate_hidden * learnrate * x[:,None]\n",
    "print( \"Weights of output layer:{}\".format(weights_update_output))\n",
    "print( \"Weights of hidden layer:{}\".format(weights_update_hidden))\n",
    "print(\"Overall error {}\".format(error_rate_output))\n",
    "print(\"Hidden Layer error {}\".format(error_rate_hidden))\n",
    "print(\"Output {}\".format(o_a))\n",
    "\n"
   ]
  },
  {
   "cell_type": "markdown",
   "metadata": {},
   "source": [
    "## Data cleaning"
   ]
  },
  {
   "cell_type": "code",
   "execution_count": 2,
   "metadata": {
    "collapsed": false
   },
   "outputs": [],
   "source": [
    "admissions =pd.read_csv('binary.csv')\n",
    "data = pd.concat([admissions,pd.get_dummies(admissions['rank'],prefix='rank')],axis=1)\n",
    "data = data.drop('rank',axis=1)"
   ]
  },
  {
   "cell_type": "code",
   "execution_count": 3,
   "metadata": {
    "collapsed": false
   },
   "outputs": [
    {
     "name": "stdout",
     "output_type": "stream",
     "text": [
      "     admit  gre   gpa  rank\n",
      "0        0  380  3.61     3\n",
      "1        1  660  3.67     3\n",
      "2        1  800  4.00     1\n",
      "3        1  640  3.19     4\n",
      "4        0  520  2.93     4\n",
      "5        1  760  3.00     2\n",
      "6        1  560  2.98     1\n",
      "7        0  400  3.08     2\n",
      "8        1  540  3.39     3\n",
      "9        0  700  3.92     2\n",
      "10       0  800  4.00     4\n",
      "11       0  440  3.22     1\n",
      "12       1  760  4.00     1\n",
      "13       0  700  3.08     2\n",
      "14       1  700  4.00     1\n",
      "15       0  480  3.44     3\n",
      "16       0  780  3.87     4\n",
      "17       0  360  2.56     3\n",
      "18       0  800  3.75     2\n",
      "19       1  540  3.81     1\n",
      "20       0  500  3.17     3\n",
      "21       1  660  3.63     2\n",
      "22       0  600  2.82     4\n",
      "23       0  680  3.19     4\n",
      "24       1  760  3.35     2\n",
      "25       1  800  3.66     1\n",
      "26       1  620  3.61     1\n",
      "27       1  520  3.74     4\n",
      "28       1  780  3.22     2\n",
      "29       0  520  3.29     1\n",
      "..     ...  ...   ...   ...\n",
      "370      1  540  3.77     2\n",
      "371      1  680  3.76     3\n",
      "372      1  680  2.42     1\n",
      "373      1  620  3.37     1\n",
      "374      0  560  3.78     2\n",
      "375      0  560  3.49     4\n",
      "376      0  620  3.63     2\n",
      "377      1  800  4.00     2\n",
      "378      0  640  3.12     3\n",
      "379      0  540  2.70     2\n",
      "380      0  700  3.65     2\n",
      "381      1  540  3.49     2\n",
      "382      0  540  3.51     2\n",
      "383      0  660  4.00     1\n",
      "384      1  480  2.62     2\n",
      "385      0  420  3.02     1\n",
      "386      1  740  3.86     2\n",
      "387      0  580  3.36     2\n",
      "388      0  640  3.17     2\n",
      "389      0  640  3.51     2\n",
      "390      1  800  3.05     2\n",
      "391      1  660  3.88     2\n",
      "392      1  600  3.38     3\n",
      "393      1  620  3.75     2\n",
      "394      1  460  3.99     3\n",
      "395      0  620  4.00     2\n",
      "396      0  560  3.04     3\n",
      "397      0  460  2.63     2\n",
      "398      0  700  3.65     2\n",
      "399      0  600  3.89     3\n",
      "\n",
      "[400 rows x 4 columns]\n"
     ]
    }
   ],
   "source": [
    "rd = pd.read_csv('binary.csv')\n",
    "print(pd.DataFrame(rd))"
   ]
  },
  {
   "cell_type": "code",
   "execution_count": 4,
   "metadata": {
    "collapsed": false
   },
   "outputs": [
    {
     "name": "stdout",
     "output_type": "stream",
     "text": [
      "     admit  gre   gpa  rank_1  rank_2  rank_3  rank_4\n",
      "0        0  380  3.61       0       0       1       0\n",
      "1        1  660  3.67       0       0       1       0\n",
      "2        1  800  4.00       1       0       0       0\n",
      "3        1  640  3.19       0       0       0       1\n",
      "4        0  520  2.93       0       0       0       1\n",
      "5        1  760  3.00       0       1       0       0\n",
      "6        1  560  2.98       1       0       0       0\n",
      "7        0  400  3.08       0       1       0       0\n",
      "8        1  540  3.39       0       0       1       0\n",
      "9        0  700  3.92       0       1       0       0\n",
      "10       0  800  4.00       0       0       0       1\n",
      "11       0  440  3.22       1       0       0       0\n",
      "12       1  760  4.00       1       0       0       0\n",
      "13       0  700  3.08       0       1       0       0\n",
      "14       1  700  4.00       1       0       0       0\n",
      "15       0  480  3.44       0       0       1       0\n",
      "16       0  780  3.87       0       0       0       1\n",
      "17       0  360  2.56       0       0       1       0\n",
      "18       0  800  3.75       0       1       0       0\n",
      "19       1  540  3.81       1       0       0       0\n",
      "20       0  500  3.17       0       0       1       0\n",
      "21       1  660  3.63       0       1       0       0\n",
      "22       0  600  2.82       0       0       0       1\n",
      "23       0  680  3.19       0       0       0       1\n",
      "24       1  760  3.35       0       1       0       0\n",
      "25       1  800  3.66       1       0       0       0\n",
      "26       1  620  3.61       1       0       0       0\n",
      "27       1  520  3.74       0       0       0       1\n",
      "28       1  780  3.22       0       1       0       0\n",
      "29       0  520  3.29       1       0       0       0\n",
      "..     ...  ...   ...     ...     ...     ...     ...\n",
      "370      1  540  3.77       0       1       0       0\n",
      "371      1  680  3.76       0       0       1       0\n",
      "372      1  680  2.42       1       0       0       0\n",
      "373      1  620  3.37       1       0       0       0\n",
      "374      0  560  3.78       0       1       0       0\n",
      "375      0  560  3.49       0       0       0       1\n",
      "376      0  620  3.63       0       1       0       0\n",
      "377      1  800  4.00       0       1       0       0\n",
      "378      0  640  3.12       0       0       1       0\n",
      "379      0  540  2.70       0       1       0       0\n",
      "380      0  700  3.65       0       1       0       0\n",
      "381      1  540  3.49       0       1       0       0\n",
      "382      0  540  3.51       0       1       0       0\n",
      "383      0  660  4.00       1       0       0       0\n",
      "384      1  480  2.62       0       1       0       0\n",
      "385      0  420  3.02       1       0       0       0\n",
      "386      1  740  3.86       0       1       0       0\n",
      "387      0  580  3.36       0       1       0       0\n",
      "388      0  640  3.17       0       1       0       0\n",
      "389      0  640  3.51       0       1       0       0\n",
      "390      1  800  3.05       0       1       0       0\n",
      "391      1  660  3.88       0       1       0       0\n",
      "392      1  600  3.38       0       0       1       0\n",
      "393      1  620  3.75       0       1       0       0\n",
      "394      1  460  3.99       0       0       1       0\n",
      "395      0  620  4.00       0       1       0       0\n",
      "396      0  560  3.04       0       0       1       0\n",
      "397      0  460  2.63       0       1       0       0\n",
      "398      0  700  3.65       0       1       0       0\n",
      "399      0  600  3.89       0       0       1       0\n",
      "\n",
      "[400 rows x 7 columns]\n"
     ]
    }
   ],
   "source": [
    "print(pd.DataFrame(data))"
   ]
  },
  {
   "cell_type": "code",
   "execution_count": 5,
   "metadata": {
    "collapsed": false
   },
   "outputs": [
    {
     "name": "stdout",
     "output_type": "stream",
     "text": [
      "     admit       gre       gpa  rank_1  rank_2  rank_3  rank_4\n",
      "0        0 -1.798011  0.578348       0       0       1       0\n",
      "1        1  0.625884  0.736008       0       0       1       0\n",
      "2        1  1.837832  1.603135       1       0       0       0\n",
      "3        1  0.452749 -0.525269       0       0       0       1\n",
      "4        0 -0.586063 -1.208461       0       0       0       1\n",
      "5        1  1.491561 -1.024525       0       1       0       0\n",
      "6        1 -0.239793 -1.077078       1       0       0       0\n",
      "7        0 -1.624876 -0.814312       0       1       0       0\n",
      "8        1 -0.412928  0.000263       0       0       1       0\n",
      "9        0  0.972155  1.392922       0       1       0       0\n",
      "10       0  1.837832  1.603135       0       0       0       1\n",
      "11       0 -1.278605 -0.446439       1       0       0       0\n",
      "12       1  1.491561  1.603135       1       0       0       0\n",
      "13       0  0.972155 -0.814312       0       1       0       0\n",
      "14       1  0.972155  1.603135       1       0       0       0\n",
      "15       0 -0.932334  0.131646       0       0       1       0\n",
      "16       0  1.664697  1.261539       0       0       0       1\n",
      "17       0 -1.971146 -2.180695       0       0       1       0\n",
      "18       0  1.837832  0.946220       0       1       0       0\n",
      "19       1 -0.412928  1.103880       1       0       0       0\n",
      "20       0 -0.759199 -0.577822       0       0       1       0\n",
      "21       1  0.625884  0.630901       0       1       0       0\n",
      "22       0  0.106478 -1.497503       0       0       0       1\n",
      "23       0  0.799020 -0.525269       0       0       0       1\n",
      "24       1  1.491561 -0.104844       0       1       0       0\n",
      "25       1  1.837832  0.709731       1       0       0       0\n",
      "26       1  0.279614  0.578348       1       0       0       0\n",
      "27       1 -0.586063  0.919944       0       0       0       1\n",
      "28       1  1.664697 -0.446439       0       1       0       0\n",
      "29       0 -0.586063 -0.262503       1       0       0       0\n",
      "..     ...       ...       ...     ...     ...     ...     ...\n",
      "370      1 -0.412928  0.998773       0       1       0       0\n",
      "371      1  0.799020  0.972497       0       0       1       0\n",
      "372      1  0.799020 -2.548567       1       0       0       0\n",
      "373      1  0.279614 -0.052290       1       0       0       0\n",
      "374      0 -0.239793  1.025050       0       1       0       0\n",
      "375      0 -0.239793  0.263029       0       0       0       1\n",
      "376      0  0.279614  0.630901       0       1       0       0\n",
      "377      1  1.837832  1.603135       0       1       0       0\n",
      "378      0  0.452749 -0.709205       0       0       1       0\n",
      "379      0 -0.412928 -1.812822       0       1       0       0\n",
      "380      0  0.972155  0.683454       0       1       0       0\n",
      "381      1 -0.412928  0.263029       0       1       0       0\n",
      "382      0 -0.412928  0.315582       0       1       0       0\n",
      "383      0  0.625884  1.603135       1       0       0       0\n",
      "384      1 -0.932334 -2.023035       0       1       0       0\n",
      "385      0 -1.451740 -0.971971       1       0       0       0\n",
      "386      1  1.318426  1.235263       0       1       0       0\n",
      "387      0 -0.066657 -0.078567       0       1       0       0\n",
      "388      0  0.452749 -0.577822       0       1       0       0\n",
      "389      0  0.452749  0.315582       0       1       0       0\n",
      "390      1  1.837832 -0.893142       0       1       0       0\n",
      "391      1  0.625884  1.287816       0       1       0       0\n",
      "392      1  0.106478 -0.026014       0       0       1       0\n",
      "393      1  0.279614  0.946220       0       1       0       0\n",
      "394      1 -1.105469  1.576859       0       0       1       0\n",
      "395      0  0.279614  1.603135       0       1       0       0\n",
      "396      0 -0.239793 -0.919418       0       0       1       0\n",
      "397      0 -1.105469 -1.996759       0       1       0       0\n",
      "398      0  0.972155  0.683454       0       1       0       0\n",
      "399      0  0.106478  1.314093       0       0       1       0\n",
      "\n",
      "[400 rows x 7 columns]\n"
     ]
    }
   ],
   "source": [
    "for field in ['gre','gpa']:\n",
    "    mean,std = data[field].mean(),data[field].std()\n",
    "    data.loc[:,field] = (data[field] - mean)/std\n",
    "print(pd.DataFrame(data))"
   ]
  },
  {
   "cell_type": "code",
   "execution_count": 6,
   "metadata": {
    "collapsed": true
   },
   "outputs": [],
   "source": [
    "np.random.seed(21)\n",
    "sample = np.random.choice(data.index,size = int(len(data) * 0.9),replace =False)\n",
    "data,test_data = data.ix[sample],data.drop(sample)"
   ]
  },
  {
   "cell_type": "code",
   "execution_count": 7,
   "metadata": {
    "collapsed": false
   },
   "outputs": [
    {
     "name": "stdout",
     "output_type": "stream",
     "text": [
      "     admit       gre       gpa  rank_1  rank_2  rank_3  rank_4\n",
      "106      1  0.972155  0.446965       1       0       0       0\n",
      "9        0  0.972155  1.392922       0       1       0       0\n",
      "61       0 -0.239793 -0.183673       0       0       0       1\n",
      "224      0  1.837832 -1.287291       0       1       0       0\n",
      "37       0 -0.586063 -1.287291       0       0       1       0\n",
      "242      1  0.799020 -1.129631       0       0       1       0\n",
      "313      1 -0.586063  0.683454       0       0       0       1\n",
      "52       0  1.318426 -0.052290       0       0       0       1\n",
      "347      0 -0.066657  1.077603       0       1       0       0\n",
      "239      0  0.972155  0.157922       0       0       1       0\n",
      "314      0 -0.412928  0.184199       0       0       0       1\n",
      "99       0 -1.624876 -0.209950       0       0       1       0\n",
      "209      0 -0.066657  0.289305       0       1       0       0\n",
      "311      0  0.625884  0.736008       0       1       0       0\n",
      "326      0  0.799020 -0.209950       0       1       0       0\n",
      "136      0 -0.239793 -0.157397       0       0       0       1\n",
      "372      1  0.799020 -2.548567       1       0       0       0\n",
      "16       0  1.664697  1.261539       0       0       0       1\n",
      "266      0 -0.239793 -0.393886       0       0       0       1\n",
      "164      0 -0.066657 -0.236227       0       1       0       0\n",
      "175      1  0.279614 -0.052290       0       1       0       0\n",
      "149      0  1.318426 -0.209950       1       0       0       0\n",
      "119      0 -2.144282 -1.234737       0       0       1       0\n",
      "51       0 -1.278605 -0.682929       0       0       0       1\n",
      "341      1 -0.239793 -1.944205       0       0       1       0\n",
      "89       1  0.625884  1.603135       0       1       0       0\n",
      "211      0 -0.066657 -0.971971       0       1       0       0\n",
      "393      1  0.279614  0.946220       0       1       0       0\n",
      "47       0 -0.759199 -1.103354       0       0       0       1\n",
      "174      0 -0.759199  0.368135       0       0       0       1\n",
      "..     ...       ...       ...     ...     ...     ...     ...\n",
      "280      0  0.625884  1.445476       0       1       0       0\n",
      "103      0 -0.412928  1.445476       0       0       1       0\n",
      "58       0 -1.624876  0.683454       0       1       0       0\n",
      "8        1 -0.412928  0.000263       0       0       1       0\n",
      "33       1  1.837832  1.603135       0       0       1       0\n",
      "71       0 -2.490553 -1.234737       0       0       0       1\n",
      "121      1 -0.932334 -1.891652       0       1       0       0\n",
      "322      0 -0.759199 -0.998248       0       0       0       1\n",
      "181      0 -0.759199  1.287816       0       0       0       1\n",
      "399      0  0.106478  1.314093       0       0       1       0\n",
      "63       1  0.799020  1.208986       0       0       1       0\n",
      "112      0 -1.971146 -1.024525       0       0       1       0\n",
      "160      0  0.106478 -0.682929       0       1       0       0\n",
      "382      0 -0.412928  0.315582       0       1       0       0\n",
      "218      0 -1.105469 -1.077078       1       0       0       0\n",
      "250      0  0.625884 -0.209950       0       0       0       1\n",
      "230      0 -0.066657 -0.262503       0       0       0       1\n",
      "348      0 -1.624876 -0.078567       0       1       0       0\n",
      "286      1  1.837832 -0.446439       1       0       0       0\n",
      "332      0 -1.451740 -1.129631       1       0       0       0\n",
      "118      1  1.837832  0.814837       1       0       0       0\n",
      "235      0  0.279614 -0.893142       0       1       0       0\n",
      "325      0  0.799020  1.340369       1       0       0       0\n",
      "371      1  0.799020  0.972497       0       0       1       0\n",
      "137      0  0.972155  1.603135       0       0       1       0\n",
      "28       1  1.664697 -0.446439       0       1       0       0\n",
      "346      0  0.106478 -0.104844       0       1       0       0\n",
      "271      0 -0.412928 -0.157397       0       0       1       0\n",
      "338      0 -0.412928 -0.498993       1       0       0       0\n",
      "240      0 -1.278605 -1.655163       0       1       0       0\n",
      "\n",
      "[360 rows x 7 columns]\n"
     ]
    }
   ],
   "source": [
    "print(data)"
   ]
  },
  {
   "cell_type": "code",
   "execution_count": 8,
   "metadata": {
    "collapsed": true
   },
   "outputs": [],
   "source": [
    "features,targets = data.drop('admit',axis=1),data['admit']\n",
    "features_test,target_test=test_data.drop('admit',axis=1),test_data['admit']"
   ]
  },
  {
   "cell_type": "code",
   "execution_count": 9,
   "metadata": {
    "collapsed": false
   },
   "outputs": [
    {
     "name": "stdout",
     "output_type": "stream",
     "text": [
      "          gre       gpa  rank_1  rank_2  rank_3  rank_4\n",
      "106  0.972155  0.446965       1       0       0       0\n",
      "9    0.972155  1.392922       0       1       0       0\n",
      "61  -0.239793 -0.183673       0       0       0       1\n",
      "224  1.837832 -1.287291       0       1       0       0\n",
      "37  -0.586063 -1.287291       0       0       1       0\n",
      "242  0.799020 -1.129631       0       0       1       0\n",
      "313 -0.586063  0.683454       0       0       0       1\n",
      "52   1.318426 -0.052290       0       0       0       1\n",
      "347 -0.066657  1.077603       0       1       0       0\n",
      "239  0.972155  0.157922       0       0       1       0\n",
      "314 -0.412928  0.184199       0       0       0       1\n",
      "99  -1.624876 -0.209950       0       0       1       0\n",
      "209 -0.066657  0.289305       0       1       0       0\n",
      "311  0.625884  0.736008       0       1       0       0\n",
      "326  0.799020 -0.209950       0       1       0       0\n",
      "136 -0.239793 -0.157397       0       0       0       1\n",
      "372  0.799020 -2.548567       1       0       0       0\n",
      "16   1.664697  1.261539       0       0       0       1\n",
      "266 -0.239793 -0.393886       0       0       0       1\n",
      "164 -0.066657 -0.236227       0       1       0       0\n",
      "175  0.279614 -0.052290       0       1       0       0\n",
      "149  1.318426 -0.209950       1       0       0       0\n",
      "119 -2.144282 -1.234737       0       0       1       0\n",
      "51  -1.278605 -0.682929       0       0       0       1\n",
      "341 -0.239793 -1.944205       0       0       1       0\n",
      "89   0.625884  1.603135       0       1       0       0\n",
      "211 -0.066657 -0.971971       0       1       0       0\n",
      "393  0.279614  0.946220       0       1       0       0\n",
      "47  -0.759199 -1.103354       0       0       0       1\n",
      "174 -0.759199  0.368135       0       0       0       1\n",
      "..        ...       ...     ...     ...     ...     ...\n",
      "280  0.625884  1.445476       0       1       0       0\n",
      "103 -0.412928  1.445476       0       0       1       0\n",
      "58  -1.624876  0.683454       0       1       0       0\n",
      "8   -0.412928  0.000263       0       0       1       0\n",
      "33   1.837832  1.603135       0       0       1       0\n",
      "71  -2.490553 -1.234737       0       0       0       1\n",
      "121 -0.932334 -1.891652       0       1       0       0\n",
      "322 -0.759199 -0.998248       0       0       0       1\n",
      "181 -0.759199  1.287816       0       0       0       1\n",
      "399  0.106478  1.314093       0       0       1       0\n",
      "63   0.799020  1.208986       0       0       1       0\n",
      "112 -1.971146 -1.024525       0       0       1       0\n",
      "160  0.106478 -0.682929       0       1       0       0\n",
      "382 -0.412928  0.315582       0       1       0       0\n",
      "218 -1.105469 -1.077078       1       0       0       0\n",
      "250  0.625884 -0.209950       0       0       0       1\n",
      "230 -0.066657 -0.262503       0       0       0       1\n",
      "348 -1.624876 -0.078567       0       1       0       0\n",
      "286  1.837832 -0.446439       1       0       0       0\n",
      "332 -1.451740 -1.129631       1       0       0       0\n",
      "118  1.837832  0.814837       1       0       0       0\n",
      "235  0.279614 -0.893142       0       1       0       0\n",
      "325  0.799020  1.340369       1       0       0       0\n",
      "371  0.799020  0.972497       0       0       1       0\n",
      "137  0.972155  1.603135       0       0       1       0\n",
      "28   1.664697 -0.446439       0       1       0       0\n",
      "346  0.106478 -0.104844       0       1       0       0\n",
      "271 -0.412928 -0.157397       0       0       1       0\n",
      "338 -0.412928 -0.498993       1       0       0       0\n",
      "240 -1.278605 -1.655163       0       1       0       0\n",
      "\n",
      "[360 rows x 6 columns]\n"
     ]
    }
   ],
   "source": [
    "print(pd.DataFrame(features))"
   ]
  },
  {
   "cell_type": "code",
   "execution_count": 10,
   "metadata": {
    "collapsed": true
   },
   "outputs": [],
   "source": [
    "def sigmoid_1(x):\n",
    "    return 1/(1+np.exp(-x))"
   ]
  },
  {
   "cell_type": "code",
   "execution_count": 27,
   "metadata": {
    "collapsed": true
   },
   "outputs": [],
   "source": [
    "n_hidden = 2 ## number of hidden units\n",
    "epochs = 1000\n",
    "learnrate = 0.005"
   ]
  },
  {
   "cell_type": "code",
   "execution_count": 28,
   "metadata": {
    "collapsed": false
   },
   "outputs": [],
   "source": [
    "n_records,n_features = features.shape\n",
    "last_loss = None"
   ]
  },
  {
   "cell_type": "markdown",
   "metadata": {},
   "source": [
    "### Initialize weights"
   ]
  },
  {
   "cell_type": "code",
   "execution_count": 29,
   "metadata": {
    "collapsed": false
   },
   "outputs": [],
   "source": [
    "weights_input_hidden = np.random.normal(scale=1/n_features ** .5,\n",
    "                                        size =(n_features,n_hidden))\n",
    "weights_hidden_output = np.random.normal(scale=1/n_features ** .5,\n",
    "                                        size =n_hidden)\n"
   ]
  },
  {
   "cell_type": "code",
   "execution_count": 47,
   "metadata": {
    "collapsed": false
   },
   "outputs": [
    {
     "name": "stdout",
     "output_type": "stream",
     "text": [
      "Train Loss: 0.22305052355820074\n",
      "Train Loss: 0.22254029230277744\n",
      "Train Loss: 0.22205779160590003\n",
      "Train Loss: 0.22160170974524043\n",
      "Train Loss: 0.22117079387102842\n",
      "Train Loss: 0.22076384774129051\n",
      "Train Loss: 0.22037972949207355\n",
      "Train Loss: 0.22001734944978024\n",
      "Train Loss: 0.2196756679913699\n",
      "Train Loss: 0.21935369345713462\n",
      "Prediction accuracy :0.650\n"
     ]
    }
   ],
   "source": [
    "for e in range(epochs):\n",
    "    del_w_input_hidden = np.zeros(weights_input_hidden.shape)\n",
    "    del_w_hidden_output = np.zeros(weights_hidden_output.shape)\n",
    "    for x,y in zip(features.values,targets):\n",
    "        hidden_input = sigmoid_1(np.dot(x,weights_input_hidden))\n",
    "        hidden_output =sigmoid_1(hidden_input)\n",
    "        output = sigmoid_1(np.dot(hidden_input,weights_hidden_output))\n",
    "        \n",
    "        error = y- output\n",
    "        \n",
    "        output_error = output * (1-output) * (y-output)\n",
    "        hidden_error = np.dot(output_error,weights_hidden_output) * hidden_output  * (1-hidden_output)\n",
    "        \n",
    "        del_w_hidden_output += output_error * hidden_output\n",
    "        del_w_input_hidden += hidden_error * x[:,None]\n",
    "    weights_input_hidden +=learnrate * del_w_input_hidden/n_records\n",
    "    weights_hidden_output +=learnrate * del_w_hidden_output/n_records\n",
    "    \n",
    "    if e %(epochs /10)==0:\n",
    "        hidden_output = sigmoid_1(np.dot(x,weights_input_hidden))\n",
    "        out = sigmoid_1(np.dot(hidden_output,weights_hidden_output))\n",
    "        loss =np.mean((out-targets) ** 2)\n",
    "        \n",
    "        if last_loss and last_loss < loss:\n",
    "            print(\"Train Loss:\",loss,\"WARNING - Loss Increasing\")\n",
    "        else:\n",
    "            print(\"Train Loss:\",loss)\n",
    "        last_loss =loss\n",
    "    \n",
    "hidden =sigmoid_1(np.dot(features_test,weights_input_hidden))\n",
    "out = sigmoid_1(np.dot(hidden,weights_hidden_output))\n",
    "predictions = out > 0.5\n",
    "accuracy = np.mean(predictions ==target_test)\n",
    "print(\"Prediction accuracy :{:.3f}\".format(accuracy))\n",
    "\n",
    "    \n",
    "    \n",
    "\n",
    "        "
   ]
  },
  {
   "cell_type": "code",
   "execution_count": 45,
   "metadata": {
    "collapsed": false
   },
   "outputs": [
    {
     "name": "stdout",
     "output_type": "stream",
     "text": [
      "       0\n",
      "0   True\n",
      "1   True\n",
      "2   True\n",
      "3   True\n",
      "4   True\n",
      "5   True\n",
      "6   True\n",
      "7   True\n",
      "8   True\n",
      "9   True\n",
      "10  True\n",
      "11  True\n",
      "12  True\n",
      "13  True\n",
      "14  True\n",
      "15  True\n",
      "16  True\n",
      "17  True\n",
      "18  True\n",
      "19  True\n",
      "20  True\n",
      "21  True\n",
      "22  True\n",
      "23  True\n",
      "24  True\n",
      "25  True\n",
      "26  True\n",
      "27  True\n",
      "28  True\n",
      "29  True\n",
      "30  True\n",
      "31  True\n",
      "32  True\n",
      "33  True\n",
      "34  True\n",
      "35  True\n",
      "36  True\n",
      "37  True\n",
      "38  True\n",
      "39  True\n"
     ]
    }
   ],
   "source": [
    "print(pd.DataFrame(predictions))"
   ]
  },
  {
   "cell_type": "code",
   "execution_count": 46,
   "metadata": {
    "collapsed": false
   },
   "outputs": [
    {
     "name": "stdout",
     "output_type": "stream",
     "text": [
      "     admit\n",
      "48       0\n",
      "50       0\n",
      "80       0\n",
      "84       1\n",
      "98       0\n",
      "110      0\n",
      "120      1\n",
      "122      0\n",
      "133      0\n",
      "148      1\n",
      "169      0\n",
      "184      0\n",
      "188      0\n",
      "202      1\n",
      "204      1\n",
      "207      1\n",
      "229      1\n",
      "233      0\n",
      "236      1\n",
      "238      0\n",
      "241      1\n",
      "246      0\n",
      "248      0\n",
      "253      1\n",
      "260      0\n",
      "261      0\n",
      "268      1\n",
      "274      0\n",
      "291      0\n",
      "304      0\n",
      "309      0\n",
      "312      0\n",
      "315      1\n",
      "317      1\n",
      "328      0\n",
      "356      0\n",
      "368      0\n",
      "375      0\n",
      "386      1\n",
      "396      0\n"
     ]
    }
   ],
   "source": [
    "m=pd.DataFrame(target_test)\n",
    "print(m)"
   ]
  },
  {
   "cell_type": "code",
   "execution_count": null,
   "metadata": {
    "collapsed": true
   },
   "outputs": [],
   "source": []
  }
 ],
 "metadata": {
  "kernelspec": {
   "display_name": "Python 3",
   "language": "python",
   "name": "python3"
  },
  "language_info": {
   "codemirror_mode": {
    "name": "ipython",
    "version": 3
   },
   "file_extension": ".py",
   "mimetype": "text/x-python",
   "name": "python",
   "nbconvert_exporter": "python",
   "pygments_lexer": "ipython3",
   "version": "3.6.0"
  }
 },
 "nbformat": 4,
 "nbformat_minor": 2
}
